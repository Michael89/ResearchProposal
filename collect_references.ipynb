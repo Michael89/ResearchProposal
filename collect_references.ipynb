{
 "cells": [
  {
   "cell_type": "code",
   "execution_count": 19,
   "metadata": {},
   "outputs": [
    {
     "data": {
      "text/plain": [
       "True"
      ]
     },
     "execution_count": 19,
     "metadata": {},
     "output_type": "execute_result"
    }
   ],
   "source": [
    "from dotenv import load_dotenv\n",
    "load_dotenv()\n"
   ]
  },
  {
   "cell_type": "code",
   "execution_count": 30,
   "metadata": {},
   "outputs": [],
   "source": [
    "import openai\n",
    "from openai.types.chat import ChatCompletionToolParam\n",
    "from openai.types.shared_params import FunctionDefinition\n",
    "import arxiv"
   ]
  },
  {
   "cell_type": "code",
   "execution_count": null,
   "metadata": {},
   "outputs": [],
   "source": [
    "research_proposal_idea = \"\"\"Idea is to propose a new method for navidation that resamples human like behviour.\n",
    "Person never knows exact location and exact distace it travelled. And yet they are able to navigate through the world.\n",
    "We want to make a robot that can navigate like a human. People learned to navigate in one place easily would be able to navigate in a new place with the same ease.\n",
    "My idea is to use a neural network pretrained to return some embedding representation of what robot seen already.\n",
    "Then use that embedding to figureout the dirrection to places in the new environment.\n",
    "\"\"\"\n"
   ]
  },
  {
   "cell_type": "code",
   "execution_count": 41,
   "metadata": {},
   "outputs": [],
   "source": [
    "def search_arxiv(query, max_results=10):\n",
    "    client = arxiv.Client()\n",
    "    search = arxiv.Search(\n",
    "        query = query,\n",
    "        max_results = max_results,\n",
    "        sort_by = arxiv.SortCriterion.SubmittedDate\n",
    "    )\n",
    "    return [{'title': result.title, 'summary': result.summary, 'entry_id': result.entry_id} for result in client.results(search)]\n"
   ]
  },
  {
   "cell_type": "code",
   "execution_count": null,
   "metadata": {},
   "outputs": [],
   "source": []
  },
  {
   "cell_type": "code",
   "execution_count": 42,
   "metadata": {},
   "outputs": [
    {
     "data": {
      "text/plain": [
       "[{'title': 'MagicQuill: An Intelligent Interactive Image Editing System',\n",
       "  'summary': 'Image editing involves a variety of complex tasks and requires efficient and\\nprecise manipulation techniques. In this paper, we present MagicQuill, an\\nintegrated image editing system that enables swift actualization of creative\\nideas. Our system features a streamlined yet functionally robust interface,\\nallowing for the articulation of editing operations (e.g., inserting elements,\\nerasing objects, altering color) with minimal input. These interactions are\\nmonitored by a multimodal large language model (MLLM) to anticipate editing\\nintentions in real time, bypassing the need for explicit prompt entry. Finally,\\nwe apply a powerful diffusion prior, enhanced by a carefully learned two-branch\\nplug-in module, to process editing requests with precise control. Experimental\\nresults demonstrate the effectiveness of MagicQuill in achieving high-quality\\nimage edits. Please visit https://magic-quill.github.io to try out our system.',\n",
       "  'entry_id': 'http://arxiv.org/abs/2411.09703v1'},\n",
       " {'title': 'On the Surprising Effectiveness of Attention Transfer for Vision Transformers',\n",
       "  'summary': 'Conventional wisdom suggests that pre-training Vision Transformers (ViT)\\nimproves downstream performance by learning useful representations. Is this\\nactually true? We investigate this question and find that the features and\\nrepresentations learned during pre-training are not essential. Surprisingly,\\nusing only the attention patterns from pre-training (i.e., guiding how\\ninformation flows between tokens) is sufficient for models to learn high\\nquality features from scratch and achieve comparable downstream performance. We\\nshow this by introducing a simple method called attention transfer, where only\\nthe attention patterns from a pre-trained teacher ViT are transferred to a\\nstudent, either by copying or distilling the attention maps. Since attention\\ntransfer lets the student learn its own features, ensembling it with a\\nfine-tuned teacher also further improves accuracy on ImageNet. We\\nsystematically study various aspects of our findings on the sufficiency of\\nattention maps, including distribution shift settings where they underperform\\nfine-tuning. We hope our exploration provides a better understanding of what\\npre-training accomplishes and leads to a useful alternative to the standard\\npractice of fine-tuning',\n",
       "  'entry_id': 'http://arxiv.org/abs/2411.09702v1'},\n",
       " {'title': \"Counterexamples to Zagier's Duality Conjecture on Nahm Sums\",\n",
       "  'summary': \"Given any positive integer $r$, Nahm's problem is to determine all rational\\n$r\\\\times r$ positive definite matrix $A$, $r$-dimensional rational vector $B$\\nand rational scalar $C$ such that the rank $r$ Nahm sum associated with\\n$(A,B,C)$ is modular. Around 2007, Zagier conjectured that if the rank $r$ Nahm\\nsum for $(A,B,C)$ is modular, then so is the dual Nahm sum associated with\\n$(A^{-1},A^{-1}B,B^\\\\mathrm{T} A^{-1}B/2-{r}/{24}-C)$. We construct some\\nexplicit rank four Nahm sums wherein the original Nahm sum is modular while its\\ndual is not modular. This provides counterexamples to Zagier's conjecture.\",\n",
       "  'entry_id': 'http://arxiv.org/abs/2411.09701v1'},\n",
       " {'title': 'Post-Newtonian expansion of energy and angular momentum fluxes: inclined spherical orbits about a Kerr black hole',\n",
       "  'summary': 'We present analytical expressions for the fluxes of energy and angular\\nmomentum from a point mass on an inclined spherical orbit about a Kerr black\\nhole. The expressions are obtained using the method of Mano, Suzuki and\\nTakasugi to construct analytical solutions of the Teukolsky equation, and are\\ngiven as post-Newtonian expansions valid through 12PN, with arbitrary values\\nfor the inclination parameter $x$ and black hole spin $a$. We characterize the\\nstructure of the PN expansions in terms of their dependence on $x$ and $a$, and\\nwe validate our results against numerical calculations.',\n",
       "  'entry_id': 'http://arxiv.org/abs/2411.09700v1'},\n",
       " {'title': 'Cubic Dirac Semimetals: General Theory and Application to Rare-Earth Magnets',\n",
       "  'summary': 'Rare-earth magnets with parent cubic symmetry exhibit unique topological\\nproperties. However, the origin of these behaviors remains presently unclear.\\nHere, we develop minimal models for Dirac semimetals (DSMs) with accidental\\nband crossings and higher-order topology in cubic systems, incorporating\\ncandidate magnetic order to analyze bulk, surface, and hinge state\\ncharacteristics. In certain cubic-symmetric DSMs, we identify an effective Z2\\nchiral symmetry which significantly impacts surface and hinge-localized states.\\nOur results highlight distinct features in surface state dispersions, Fermi\\narcs, polarization dependence, and band splitting that correlate with\\nphotoemission data in rare-earth monopnictides. We also suggest candidate\\nmaterials and experimental tests for further validation. These findings advance\\nour understanding of surface states in rare-earth magnets with parent cubic\\nsymmetries and illuminate the role of DSM physics in these systems.',\n",
       "  'entry_id': 'http://arxiv.org/abs/2411.09699v1'},\n",
       " {'title': 'Completely regular codes in graphs covered by a Hamming graph',\n",
       "  'summary': 'In Cayley graphs on the additive group of a small vector space over GF$(q)$,\\n$q=2,3$, we look for completely regular (CR) codes whose parameters are new in\\nHamming graphs over the same field. The existence of a CR code in such Cayley\\ngraph $G$ implies the existence of a CR code with the same parameters in the\\ncorresponding Hamming graph that covers $G$. In such a way, we find several\\ncompletely regular codes with new parameters in Hamming graphs over GF$(3)$.\\nThe most interesting findings are two new CR-$1$ (with covering radius~$1$)\\ncodes that are independent sets (such CR are equivalent to optimal orthogonal\\narrays attaining the Bierbrauer--Friedman bound) and one new CR-$2$. By\\nrecursive constructions, every knew CR code induces an infinite sequence of CR\\ncodes (in particular, optimal orthogonal arrays if the original code was CR-$1$\\nand independent). In between, we classify feasible parameters of CR codes in\\nseveral strongly regular graphs.',\n",
       "  'entry_id': 'http://arxiv.org/abs/2411.09698v1'},\n",
       " {'title': 'Petz-Rényi relative entropy in QFT from modular theory',\n",
       "  'summary': \"We consider the generalization of the Araki-Uhlmann formula for relative\\nentropy to Petz-R\\\\'enyi relative entropy. We compute this entropy for a free\\nscalar field in the Minkowski wedge between the vacuum and a coherent state, as\\nwell as for a thermal state. In contrast to the relative entropy which in these\\ncases only depends on the sympletic form and thus reduces to the classical\\nentropy of a wave packet, the Petz-R\\\\'enyi relative entropy also depends on the\\nsymmetric part of the two-point function and is thus genuinely quantum.\",\n",
       "  'entry_id': 'http://arxiv.org/abs/2411.09696v1'},\n",
       " {'title': 'A Universal Circuit Set Using the $S_3$ Quantum Double',\n",
       "  'summary': 'One potential route toward fault-tolerant universal quantum computation is to\\nuse non-Abelian topological codes. In this work, we investigate how to achieve\\nthis goal with the quantum double model $\\\\mathcal{D}(S_3)$ -- a specific\\nnon-Abelian topological code. By embedding each on-site Hilbert space into a\\nqubit-qutrit pair, we give an explicit construction of the circuits for\\ncreating, moving, and locally measuring all non-trivial anyons. We also design\\na specialized anyon interferometer to measure the total charge remotely for\\nwell-separated anyons; this avoids fusing them together. These protocols enable\\nthe implementation of a universal gate set proposed by Cui et al. and active\\nquantum error correction of the circuit-level noise during the computation\\nprocess. To further reduce the error rate and facilitate error correction, we\\nencode each physical degree of freedom of $\\\\mathcal{D}(S_3)$ into a novel,\\nquantum, error-correcting code, enabling fault-tolerant realization, at the\\nlogical level, of all gates in the anyon manipulation circuits. Our proposal\\noffers a promising path to realize universal topological quantum computation in\\nthe NISQ era.',\n",
       "  'entry_id': 'http://arxiv.org/abs/2411.09697v1'},\n",
       " {'title': 'A physical basis for cosmological correlators from cuts',\n",
       "  'summary': 'Significant progress has been made in our understanding of the analytic\\nstructure of FRW wavefunction coefficients, facilitated by the development of\\nefficient algorithms to derive the differential equations they satisfy.\\nMoreover, recent findings indicate that the twisted cohomology of the\\nassociated hyperplane arrangement defining FRW integrals overestimates the\\nnumber of integrals required to define differential equations for the\\nwavefunction coefficient. We demonstrate that the associated dual cohomology is\\nautomatically organized in a way that is ideal for understanding and exploiting\\nthe cut/residue structure of FRW integrals. Utilizing this understanding, we\\ndevelop a systematic approach to organize compatible sequential residues, which\\ndictates the physical subspace of FRW integrals for any $n$-site, $\\\\ell$-loop\\ngraph. In particular, the physical subspace of tree-level FRW wavefunction\\ncoefficients is populated by differential forms associated to cuts/residues\\nthat factorize the integrand of the wavefunction coefficient into only flat\\nspace amplitudes. After demonstrating the validity of our construction using\\nintersection theory, we develop simple graphical rules for cut tubings that\\nenumerate the space of physical cuts and, consequently, differential forms\\nwithout any calculation.',\n",
       "  'entry_id': 'http://arxiv.org/abs/2411.09695v1'},\n",
       " {'title': 'A Bayesian Optimization Approach to Machine Translation Reranking',\n",
       "  'summary': 'Reranking a list of candidates from a machine translation system with an\\nexternal scoring model and returning the highest-scoring candidate remains a\\nsimple and effective method for improving the overall output quality.\\nTranslation scoring models continue to grow in size, with the best models being\\ncomparable to generation models. Thus, reranking can add substantial\\ncomputational cost to the translation pipeline. In this work, we pose reranking\\nas a Bayesian optimization (BayesOpt) problem. By strategically selecting\\ncandidates to score based on a balance of exploration and exploitation, we show\\nthat it is possible to find top-scoring candidates when scoring only a fraction\\nof the candidate list. For instance, our method achieves the same CometKiwi\\nscore using only 70 scoring evaluations compared a baseline system using 180.\\nWe present a multi-fidelity setting for BayesOpt, where the candidates are\\nfirst scored with a cheaper but noisier proxy scoring model, which further\\nimproves the cost-performance tradeoff when using smaller but well-trained\\ndistilled proxy scorers.',\n",
       "  'entry_id': 'http://arxiv.org/abs/2411.09694v1'}]"
      ]
     },
     "execution_count": 42,
     "metadata": {},
     "output_type": "execute_result"
    }
   ],
   "source": [
    "search_arxiv(\"SLAM and robotics\")"
   ]
  },
  {
   "cell_type": "code",
   "execution_count": 33,
   "metadata": {},
   "outputs": [],
   "source": [
    "tools = [\n",
    "    ChatCompletionToolParam(\n",
    "        type=\"function\",\n",
    "        function=FunctionDefinition(\n",
    "        name=\"SearchArxiv\",\n",
    "        description=\"Search for articles on arXiv\",\n",
    "        parameters={\n",
    "            \"type\": \"object\",\n",
    "            \"properties\": {\n",
    "                \"query\": {\n",
    "                    \"type\": \"string\",\n",
    "                    \"description\": \"The search query for arXiv articles\"\n",
    "                },\n",
    "                \"max_results\": {\n",
    "                    \"type\": \"integer\",\n",
    "                    \"description\": \"Maximum number of results to return (default: 10)\",\n",
    "                    \"default\": 10\n",
    "                }\n",
    "            },\n",
    "            \"required\": [\"query\"]\n",
    "            },\n",
    "        )\n",
    "    )\n",
    "]"
   ]
  },
  {
   "cell_type": "code",
   "execution_count": 34,
   "metadata": {},
   "outputs": [],
   "source": [
    "client = openai.Client()\n",
    "\n",
    "response = client.chat.completions.create(\n",
    "    model=\"gpt-4o-mini\",\n",
    "    max_tokens=1024*8,\n",
    "    messages=[{\"role\": \"user\", \"content\": \"Find articles related to SLAM and robotics\"}],\n",
    "    tools=tools,\n",
    ")"
   ]
  },
  {
   "cell_type": "code",
   "execution_count": 35,
   "metadata": {},
   "outputs": [
    {
     "data": {
      "text/plain": [
       "Choice(finish_reason='tool_calls', index=0, logprobs=None, message=ChatCompletionMessage(content=None, refusal=None, role='assistant', audio=None, function_call=None, tool_calls=[ChatCompletionMessageToolCall(id='call_S7c0k9zxFh5VtfYUPTlKtHyq', function=Function(arguments='{\"query\":\"SLAM robotics\",\"max_results\":10}', name='SearchArxiv'), type='function')]))"
      ]
     },
     "execution_count": 35,
     "metadata": {},
     "output_type": "execute_result"
    }
   ],
   "source": [
    "response.choices[0]\n"
   ]
  },
  {
   "cell_type": "code",
   "execution_count": 16,
   "metadata": {},
   "outputs": [
    {
     "name": "stdout",
     "output_type": "stream",
     "text": [
      "We present analytical expressions for the fluxes of energy and angular\n",
      "momentum from a point mass on an inclined spherical orbit about a Kerr black\n",
      "hole. The expressions are obtained using the method of Mano, Suzuki and\n",
      "Takasugi to construct analytical solutions of the Teukolsky equation, and are\n",
      "given as post-Newtonian expansions valid through 12PN, with arbitrary values\n",
      "for the inclination parameter $x$ and black hole spin $a$. We characterize the\n",
      "structure of the PN expansions in terms of their dependence on $x$ and $a$, and\n",
      "we validate our results against numerical calculations.\n"
     ]
    }
   ],
   "source": [
    "print(results[0].summary)\n"
   ]
  },
  {
   "cell_type": "code",
   "execution_count": null,
   "metadata": {},
   "outputs": [],
   "source": []
  }
 ],
 "metadata": {
  "kernelspec": {
   "display_name": "venv",
   "language": "python",
   "name": "python3"
  },
  "language_info": {
   "codemirror_mode": {
    "name": "ipython",
    "version": 3
   },
   "file_extension": ".py",
   "mimetype": "text/x-python",
   "name": "python",
   "nbconvert_exporter": "python",
   "pygments_lexer": "ipython3",
   "version": "3.10.15"
  }
 },
 "nbformat": 4,
 "nbformat_minor": 2
}
